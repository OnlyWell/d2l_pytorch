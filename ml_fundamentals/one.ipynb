{
 "cells": [
  {
   "cell_type": "code",
   "execution_count": 10,
   "id": "initial_id",
   "metadata": {
    "collapsed": true,
    "ExecuteTime": {
     "end_time": "2024-03-02T14:43:45.701596Z",
     "start_time": "2024-03-02T14:43:45.692546Z"
    }
   },
   "outputs": [
    {
     "name": "stdout",
     "output_type": "stream",
     "text": [
      "tensor([ 0,  1,  2,  3,  4,  5,  6,  7,  8,  9, 10, 11])\n",
      "tensor([[ 0,  1,  2,  3,  4,  5],\n",
      "        [ 6,  7,  8,  9, 10, 11],\n",
      "        [12, 13, 14, 15, 16, 17],\n",
      "        [18, 19, 20, 21, 22, 23],\n",
      "        [24, 25, 26, 27, 28, 29],\n",
      "        [30, 31, 32, 33, 34, 35]])\n"
     ]
    }
   ],
   "source": [
    "import torch\n",
    "\n",
    "#入门操作\n",
    "\n",
    "\n",
    "#张量表示一个由数值组成的数组,这个数组有多个维度(轴)。具有一个轴的张量被称为一维张量,也是向量,具有两个轴的张量被称为二维张量,也被称为矩阵;\n",
    "#1.创建一个行向量\n",
    "x = torch.arange(12)\n",
    "#创建一个3行12列的向量y\n",
    "y = torch.arange(36).reshape(6,6)\n",
    "print(x)\n",
    "print(y)"
   ]
  },
  {
   "cell_type": "code",
   "outputs": [
    {
     "name": "stdout",
     "output_type": "stream",
     "text": [
      "torch.Size([12])\n",
      "torch.Size([6, 6])\n"
     ]
    }
   ],
   "source": [
    "#2.通过张量的shape属性来访问张量(沿每个轴的长度)的形状(shape)\n",
    "print(x.shape)\n",
    "\n",
    "print(y.shape)"
   ],
   "metadata": {
    "collapsed": false,
    "ExecuteTime": {
     "end_time": "2024-03-02T14:44:12.320635Z",
     "start_time": "2024-03-02T14:44:12.310457Z"
    }
   },
   "id": "b51651e4d3cc51c6",
   "execution_count": 11
  },
  {
   "cell_type": "code",
   "outputs": [
    {
     "name": "stdout",
     "output_type": "stream",
     "text": [
      "12\n",
      "36\n"
     ]
    }
   ],
   "source": [
    "#3.张量中所有元素的总数,即形状的所有元素的乘积\n",
    "print(x.numel())\n",
    "\n",
    "print(y.numel())"
   ],
   "metadata": {
    "collapsed": false,
    "ExecuteTime": {
     "end_time": "2024-03-02T14:44:15.284662Z",
     "start_time": "2024-03-02T14:44:15.275524Z"
    }
   },
   "id": "a5922d5d653572c5",
   "execution_count": 12
  },
  {
   "cell_type": "code",
   "outputs": [
    {
     "name": "stdout",
     "output_type": "stream",
     "text": [
      "tensor([[ 0,  1,  2,  3],\n",
      "        [ 4,  5,  6,  7],\n",
      "        [ 8,  9, 10, 11]])\n",
      "torch.Size([3, 4])\n",
      "torch.Size([3, 4])\n",
      "12\n"
     ]
    }
   ],
   "source": [
    "#4.改变张量的的形状不会改变张量的大小\n",
    "x = x.reshape(3,4)\n",
    "print(x)\n",
    "print(x.size())\n",
    "print(x.shape)\n",
    "print(x.numel())"
   ],
   "metadata": {
    "collapsed": false,
    "ExecuteTime": {
     "end_time": "2024-03-02T14:46:34.969333Z",
     "start_time": "2024-03-02T14:46:34.959420Z"
    }
   },
   "id": "9f5a871770831be6",
   "execution_count": 15
  },
  {
   "cell_type": "code",
   "outputs": [
    {
     "name": "stdout",
     "output_type": "stream",
     "text": [
      "tensor([[[0., 0., 0., 0.],\n",
      "         [0., 0., 0., 0.],\n",
      "         [0., 0., 0., 0.]],\n",
      "\n",
      "        [[0., 0., 0., 0.],\n",
      "         [0., 0., 0., 0.],\n",
      "         [0., 0., 0., 0.]]])\n",
      "torch.Size([2, 3, 4])\n",
      "torch.Size([2, 3, 4])\n",
      "24\n"
     ]
    }
   ],
   "source": [
    "#5.初始化一个形状为(2,3,4)的全0矩阵\n",
    "x1 = torch.zeros(2,3,4)\n",
    "print(x1)\n",
    "print(x1.size())\n",
    "print(x1.shape)\n",
    "print(x1.numel())\n"
   ],
   "metadata": {
    "collapsed": false,
    "ExecuteTime": {
     "end_time": "2024-03-02T14:48:45.576592Z",
     "start_time": "2024-03-02T14:48:45.553528Z"
    }
   },
   "id": "630f3903f38c28a8",
   "execution_count": 18
  },
  {
   "cell_type": "code",
   "outputs": [
    {
     "name": "stdout",
     "output_type": "stream",
     "text": [
      "tensor([[[1., 1., 1., 1., 1., 1.],\n",
      "         [1., 1., 1., 1., 1., 1.],\n",
      "         [1., 1., 1., 1., 1., 1.],\n",
      "         [1., 1., 1., 1., 1., 1.],\n",
      "         [1., 1., 1., 1., 1., 1.]],\n",
      "\n",
      "        [[1., 1., 1., 1., 1., 1.],\n",
      "         [1., 1., 1., 1., 1., 1.],\n",
      "         [1., 1., 1., 1., 1., 1.],\n",
      "         [1., 1., 1., 1., 1., 1.],\n",
      "         [1., 1., 1., 1., 1., 1.]],\n",
      "\n",
      "        [[1., 1., 1., 1., 1., 1.],\n",
      "         [1., 1., 1., 1., 1., 1.],\n",
      "         [1., 1., 1., 1., 1., 1.],\n",
      "         [1., 1., 1., 1., 1., 1.],\n",
      "         [1., 1., 1., 1., 1., 1.]],\n",
      "\n",
      "        [[1., 1., 1., 1., 1., 1.],\n",
      "         [1., 1., 1., 1., 1., 1.],\n",
      "         [1., 1., 1., 1., 1., 1.],\n",
      "         [1., 1., 1., 1., 1., 1.],\n",
      "         [1., 1., 1., 1., 1., 1.]]])\n"
     ]
    }
   ],
   "source": [
    "# 6.创建一个形状(4,5,6)的全1张量\n",
    "x2 = torch.ones(4,5,6)\n",
    "print(x2)"
   ],
   "metadata": {
    "collapsed": false,
    "ExecuteTime": {
     "end_time": "2024-03-02T14:51:49.986298Z",
     "start_time": "2024-03-02T14:51:49.975853Z"
    }
   },
   "id": "15ef3db28b64d463",
   "execution_count": 21
  },
  {
   "cell_type": "code",
   "outputs": [
    {
     "name": "stdout",
     "output_type": "stream",
     "text": [
      "tensor([[[12.5500, 12.5500, 12.5500, 12.5500],\n",
      "         [12.5500, 12.5500, 12.5500, 12.5500],\n",
      "         [12.5500, 12.5500, 12.5500, 12.5500]],\n",
      "\n",
      "        [[12.5500, 12.5500, 12.5500, 12.5500],\n",
      "         [12.5500, 12.5500, 12.5500, 12.5500],\n",
      "         [12.5500, 12.5500, 12.5500, 12.5500]]])\n"
     ]
    }
   ],
   "source": [
    "# 7.创建一个形状(2,3,4)的全7张量\n",
    "x3 = torch.full((2,3,4),12.55)\n",
    "print(x3)"
   ],
   "metadata": {
    "collapsed": false,
    "ExecuteTime": {
     "end_time": "2024-03-02T14:54:05.662261Z",
     "start_time": "2024-03-02T14:54:05.636668Z"
    }
   },
   "id": "6895407697fb6951",
   "execution_count": 24
  },
  {
   "cell_type": "code",
   "outputs": [
    {
     "name": "stdout",
     "output_type": "stream",
     "text": [
      "tensor([[[0.7501, 0.1935, 0.4423, 0.0946],\n",
      "         [0.4901, 0.1479, 0.1345, 0.1842],\n",
      "         [0.0355, 0.3902, 0.8388, 0.2128]],\n",
      "\n",
      "        [[0.8913, 0.8281, 0.6978, 0.3319],\n",
      "         [0.2565, 0.9783, 0.6660, 0.1881],\n",
      "         [0.5428, 0.0240, 0.4216, 0.5138]]])\n"
     ]
    }
   ],
   "source": [
    "# 8. 通过某个特定的概率分布中随机采样得到张量中每个元素的值\n",
    "x4 = torch.rand(2,3,4)\n",
    "print(x4)"
   ],
   "metadata": {
    "collapsed": false,
    "ExecuteTime": {
     "end_time": "2024-03-02T14:55:46.294953Z",
     "start_time": "2024-03-02T14:55:46.269785Z"
    }
   },
   "id": "e0d1a8b8d4cfeb5c",
   "execution_count": 25
  },
  {
   "cell_type": "code",
   "outputs": [
    {
     "name": "stdout",
     "output_type": "stream",
     "text": [
      "tensor([[[14.2161, 17.1181, 12.9961,  4.7713],\n",
      "         [24.5101,  3.5115,  7.0955,  3.4238],\n",
      "         [20.9394,  9.6562, 24.7328, 20.5763]],\n",
      "\n",
      "        [[ 7.3723, 20.2162,  3.4120, 20.3365],\n",
      "         [ 7.5057,  4.6908,  7.9663, 19.4453],\n",
      "         [16.1598, 25.9486, 20.5807, 29.8412]]])\n"
     ]
    }
   ],
   "source": [
    "# 9. 生成形状为(2,3,4)的张量,元素值都介于1-30的随机浮点数\n",
    "x5 = torch.rand(2, 3, 4) * (30 - 1) + 1\n",
    "print(x5)"
   ],
   "metadata": {
    "collapsed": false,
    "ExecuteTime": {
     "end_time": "2024-03-02T15:01:23.690036Z",
     "start_time": "2024-03-02T15:01:23.665711Z"
    }
   },
   "id": "99cd1cd129484f95",
   "execution_count": 33
  },
  {
   "cell_type": "code",
   "outputs": [
    {
     "name": "stdout",
     "output_type": "stream",
     "text": [
      "tensor([[0.8666, 0.9443, 0.3296, 0.9996],\n",
      "        [0.9647, 0.6011, 0.5072, 0.2359],\n",
      "        [0.1515, 0.3344, 0.1584, 0.2950]])\n"
     ]
    }
   ],
   "source": [
    "# 10.创建一个形状为(3,4)的张量,每个元素都从均值为0,标准差为1的标准搞死分布(正态分布)中随机取样\n",
    "x6 = torch.rand(3,4)\n",
    "print(x6)"
   ],
   "metadata": {
    "collapsed": false,
    "ExecuteTime": {
     "end_time": "2024-03-02T15:03:28.615194Z",
     "start_time": "2024-03-02T15:03:28.604636Z"
    }
   },
   "id": "f9ae1ec86e3580a3",
   "execution_count": 34
  }
 ],
 "metadata": {
  "kernelspec": {
   "display_name": "Python 3",
   "language": "python",
   "name": "python3"
  },
  "language_info": {
   "codemirror_mode": {
    "name": "ipython",
    "version": 2
   },
   "file_extension": ".py",
   "mimetype": "text/x-python",
   "name": "python",
   "nbconvert_exporter": "python",
   "pygments_lexer": "ipython2",
   "version": "2.7.6"
  }
 },
 "nbformat": 4,
 "nbformat_minor": 5
}
