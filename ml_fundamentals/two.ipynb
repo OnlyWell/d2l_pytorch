{
 "cells": [
  {
   "cell_type": "code",
   "execution_count": 5,
   "id": "initial_id",
   "metadata": {
    "collapsed": true,
    "ExecuteTime": {
     "end_time": "2024-03-02T15:14:37.738376Z",
     "start_time": "2024-03-02T15:14:37.713582Z"
    }
   },
   "outputs": [
    {
     "name": "stdout",
     "output_type": "stream",
     "text": [
      "tensor([ 3.,  4.,  6., 10.])\n",
      "tensor([-1.,  0.,  2.,  6.])\n",
      "tensor([ 2.,  4.,  8., 16.])\n",
      "tensor([0.5000, 1.0000, 2.0000, 4.0000])\n",
      "tensor([ 1.,  4., 16., 64.])\n",
      "==========结束分隔符=========\n",
      "tensor([  2.,   4.,  16., 256.])\n",
      "tensor([2.7183e+00, 7.3891e+00, 5.4598e+01, 2.9810e+03])\n"
     ]
    }
   ],
   "source": [
    "#运算符\n",
    "#1.对于任意具有相同形状的张量,常见的标准算术运算符(+,-,*,/,**)都可以被升级为按元素运算\n",
    "\n",
    "import torch\n",
    "x = torch.tensor([1.0,2,4,8])\n",
    "y = torch.tensor([2,2,2,2])\n",
    "print(x + y)\n",
    "print(x - y)\n",
    "print(x * y)\n",
    "print(x / y)\n",
    "print(x ** y)\n",
    "\n",
    "str = \"结束分隔符\"\n",
    "print(f\"=========={str}=========\")\n",
    "print(y ** x)\n",
    "\n",
    "#求幂运算(对张量中的每个元素求幂)\n",
    "print(torch.exp(x))"
   ]
  },
  {
   "cell_type": "code",
   "outputs": [],
   "source": [
    "# 2.张量的链接"
   ],
   "metadata": {
    "collapsed": false
   },
   "id": "a56f372d9274fd6e"
  }
 ],
 "metadata": {
  "kernelspec": {
   "display_name": "Python 3",
   "language": "python",
   "name": "python3"
  },
  "language_info": {
   "codemirror_mode": {
    "name": "ipython",
    "version": 2
   },
   "file_extension": ".py",
   "mimetype": "text/x-python",
   "name": "python",
   "nbconvert_exporter": "python",
   "pygments_lexer": "ipython2",
   "version": "2.7.6"
  }
 },
 "nbformat": 4,
 "nbformat_minor": 5
}
